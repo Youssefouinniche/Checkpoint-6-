{
  "nbformat": 4,
  "nbformat_minor": 0,
  "metadata": {
    "colab": {
      "name": "Untitled6.ipynb",
      "provenance": [],
      "collapsed_sections": []
    },
    "kernelspec": {
      "name": "python3",
      "display_name": "Python 3"
    },
    "language_info": {
      "name": "python"
    }
  },
  "cells": [
    {
      "cell_type": "code",
      "metadata": {
        "colab": {
          "base_uri": "https://localhost:8080/"
        },
        "id": "0FPD4KjzmlDf",
        "outputId": "61f7349b-5efd-427a-a165-7e3a2be02e71"
      },
      "source": [
        "import numpy as np\n",
        "a = np.arange(7)\n",
        "a.tolist\n",
        "print(a)\n",
        "\n"
      ],
      "execution_count": 27,
      "outputs": [
        {
          "output_type": "stream",
          "text": [
            "[0 1 2 3 4 5 6]\n"
          ],
          "name": "stdout"
        }
      ]
    },
    {
      "cell_type": "code",
      "metadata": {
        "colab": {
          "base_uri": "https://localhost:8080/"
        },
        "id": "8ZJP0wX-BtPm",
        "outputId": "30cddffc-8dc4-489d-a118-6b2ce45fbc21"
      },
      "source": [
        "import numpy as np \n",
        "m = 0\n",
        "array = np.array([[1,6],[8,4]])\n",
        "m=np.trace(array)\n",
        "print(m)\n"
      ],
      "execution_count": 56,
      "outputs": [
        {
          "output_type": "stream",
          "text": [
            "5\n"
          ],
          "name": "stdout"
        }
      ]
    },
    {
      "cell_type": "code",
      "metadata": {
        "id": "wPwArlBLRU5y",
        "colab": {
          "base_uri": "https://localhost:8080/"
        },
        "outputId": "41c48b4a-0517-4d15-c8c0-69da7cec52b2"
      },
      "source": [
        "import numpy as np\n",
        "a =np.array ([(1,2),(3,5)])\n",
        "x = int(input(\"Donner x : \"))\n",
        "m = []\n",
        "for i in range(len(a)) :\n",
        "  for j in range(len(a)) :\n",
        "    if x<=a[i,j] : \n",
        "      m.append(a[i,j])\n",
        "for i in range(len(m)-1) :\n",
        "   print(m[i],'and',m[i+1],\"is higher then than\",a[i,j])"
      ],
      "execution_count": 53,
      "outputs": [
        {
          "output_type": "stream",
          "text": [
            "Donner x : 3\n",
            "3 and 5 is higher then than 2\n"
          ],
          "name": "stdout"
        }
      ]
    },
    {
      "cell_type": "code",
      "metadata": {
        "id": "sod5YoqcRVV2",
        "colab": {
          "base_uri": "https://localhost:8080/"
        },
        "outputId": "61771e7b-a900-49b9-c58e-121b52c20360"
      },
      "source": [
        "import numpy as np\n",
        "a = np.array([1,2,3])\n",
        "b = np.array([4,5,6])\n",
        "c = np.add(a,b)\n",
        "print(c)"
      ],
      "execution_count": null,
      "outputs": [
        {
          "output_type": "stream",
          "text": [
            "[5 7 9]\n"
          ],
          "name": "stdout"
        }
      ]
    },
    {
      "cell_type": "code",
      "metadata": {
        "colab": {
          "base_uri": "https://localhost:8080/"
        },
        "id": "8LgFzOK8nzZV",
        "outputId": "0aa2c6bf-8ea4-4f89-a895-0754a88b2c94"
      },
      "source": [
        "import numpy as np \n",
        "from statistics import mean \n",
        "a = np.arange(8).reshape(2,4)\n",
        "print(a.mean(a[0,1]))"
      ],
      "execution_count": 55,
      "outputs": [
        {
          "output_type": "stream",
          "text": [
            "[1.5 5.5]\n"
          ],
          "name": "stdout"
        }
      ]
    }
  ]
}